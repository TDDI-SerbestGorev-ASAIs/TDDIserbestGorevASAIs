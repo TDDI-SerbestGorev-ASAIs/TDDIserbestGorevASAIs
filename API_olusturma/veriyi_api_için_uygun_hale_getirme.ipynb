{
  "cells": [
    {
      "cell_type": "code",
      "execution_count": null,
      "metadata": {
        "colab": {
          "base_uri": "https://localhost:8080/"
        },
        "id": "28LNZTCAKOP2",
        "outputId": "ecdb0fea-730a-4b50-8706-b1f9f48dcdac"
      },
      "outputs": [
        {
          "output_type": "stream",
          "name": "stdout",
          "text": [
            "Requirement already satisfied: transformers in /usr/local/lib/python3.10/dist-packages (4.42.4)\n",
            "Requirement already satisfied: filelock in /usr/local/lib/python3.10/dist-packages (from transformers) (3.15.4)\n",
            "Requirement already satisfied: huggingface-hub<1.0,>=0.23.2 in /usr/local/lib/python3.10/dist-packages (from transformers) (0.23.5)\n",
            "Requirement already satisfied: numpy<2.0,>=1.17 in /usr/local/lib/python3.10/dist-packages (from transformers) (1.26.4)\n",
            "Requirement already satisfied: packaging>=20.0 in /usr/local/lib/python3.10/dist-packages (from transformers) (24.1)\n",
            "Requirement already satisfied: pyyaml>=5.1 in /usr/local/lib/python3.10/dist-packages (from transformers) (6.0.1)\n",
            "Requirement already satisfied: regex!=2019.12.17 in /usr/local/lib/python3.10/dist-packages (from transformers) (2024.5.15)\n",
            "Requirement already satisfied: requests in /usr/local/lib/python3.10/dist-packages (from transformers) (2.32.3)\n",
            "Requirement already satisfied: safetensors>=0.4.1 in /usr/local/lib/python3.10/dist-packages (from transformers) (0.4.4)\n",
            "Requirement already satisfied: tokenizers<0.20,>=0.19 in /usr/local/lib/python3.10/dist-packages (from transformers) (0.19.1)\n",
            "Requirement already satisfied: tqdm>=4.27 in /usr/local/lib/python3.10/dist-packages (from transformers) (4.66.5)\n",
            "Requirement already satisfied: fsspec>=2023.5.0 in /usr/local/lib/python3.10/dist-packages (from huggingface-hub<1.0,>=0.23.2->transformers) (2024.6.1)\n",
            "Requirement already satisfied: typing-extensions>=3.7.4.3 in /usr/local/lib/python3.10/dist-packages (from huggingface-hub<1.0,>=0.23.2->transformers) (4.12.2)\n",
            "Requirement already satisfied: charset-normalizer<4,>=2 in /usr/local/lib/python3.10/dist-packages (from requests->transformers) (3.3.2)\n",
            "Requirement already satisfied: idna<4,>=2.5 in /usr/local/lib/python3.10/dist-packages (from requests->transformers) (3.7)\n",
            "Requirement already satisfied: urllib3<3,>=1.21.1 in /usr/local/lib/python3.10/dist-packages (from requests->transformers) (2.0.7)\n",
            "Requirement already satisfied: certifi>=2017.4.17 in /usr/local/lib/python3.10/dist-packages (from requests->transformers) (2024.7.4)\n",
            "Requirement already satisfied: pandas in /usr/local/lib/python3.10/dist-packages (2.1.4)\n",
            "Requirement already satisfied: numpy<2,>=1.22.4 in /usr/local/lib/python3.10/dist-packages (from pandas) (1.26.4)\n",
            "Requirement already satisfied: python-dateutil>=2.8.2 in /usr/local/lib/python3.10/dist-packages (from pandas) (2.8.2)\n",
            "Requirement already satisfied: pytz>=2020.1 in /usr/local/lib/python3.10/dist-packages (from pandas) (2024.1)\n",
            "Requirement already satisfied: tzdata>=2022.1 in /usr/local/lib/python3.10/dist-packages (from pandas) (2024.1)\n",
            "Requirement already satisfied: six>=1.5 in /usr/local/lib/python3.10/dist-packages (from python-dateutil>=2.8.2->pandas) (1.16.0)\n",
            "Requirement already satisfied: torch in /usr/local/lib/python3.10/dist-packages (2.3.1+cu121)\n",
            "Requirement already satisfied: filelock in /usr/local/lib/python3.10/dist-packages (from torch) (3.15.4)\n",
            "Requirement already satisfied: typing-extensions>=4.8.0 in /usr/local/lib/python3.10/dist-packages (from torch) (4.12.2)\n",
            "Requirement already satisfied: sympy in /usr/local/lib/python3.10/dist-packages (from torch) (1.13.1)\n",
            "Requirement already satisfied: networkx in /usr/local/lib/python3.10/dist-packages (from torch) (3.3)\n",
            "Requirement already satisfied: jinja2 in /usr/local/lib/python3.10/dist-packages (from torch) (3.1.4)\n",
            "Requirement already satisfied: fsspec in /usr/local/lib/python3.10/dist-packages (from torch) (2024.6.1)\n",
            "Collecting nvidia-cuda-nvrtc-cu12==12.1.105 (from torch)\n",
            "  Using cached nvidia_cuda_nvrtc_cu12-12.1.105-py3-none-manylinux1_x86_64.whl.metadata (1.5 kB)\n",
            "Collecting nvidia-cuda-runtime-cu12==12.1.105 (from torch)\n",
            "  Using cached nvidia_cuda_runtime_cu12-12.1.105-py3-none-manylinux1_x86_64.whl.metadata (1.5 kB)\n",
            "Collecting nvidia-cuda-cupti-cu12==12.1.105 (from torch)\n",
            "  Using cached nvidia_cuda_cupti_cu12-12.1.105-py3-none-manylinux1_x86_64.whl.metadata (1.6 kB)\n",
            "Collecting nvidia-cudnn-cu12==8.9.2.26 (from torch)\n",
            "  Using cached nvidia_cudnn_cu12-8.9.2.26-py3-none-manylinux1_x86_64.whl.metadata (1.6 kB)\n",
            "Collecting nvidia-cublas-cu12==12.1.3.1 (from torch)\n",
            "  Using cached nvidia_cublas_cu12-12.1.3.1-py3-none-manylinux1_x86_64.whl.metadata (1.5 kB)\n",
            "Collecting nvidia-cufft-cu12==11.0.2.54 (from torch)\n",
            "  Using cached nvidia_cufft_cu12-11.0.2.54-py3-none-manylinux1_x86_64.whl.metadata (1.5 kB)\n",
            "Collecting nvidia-curand-cu12==10.3.2.106 (from torch)\n",
            "  Using cached nvidia_curand_cu12-10.3.2.106-py3-none-manylinux1_x86_64.whl.metadata (1.5 kB)\n",
            "Collecting nvidia-cusolver-cu12==11.4.5.107 (from torch)\n",
            "  Using cached nvidia_cusolver_cu12-11.4.5.107-py3-none-manylinux1_x86_64.whl.metadata (1.6 kB)\n",
            "Collecting nvidia-cusparse-cu12==12.1.0.106 (from torch)\n",
            "  Using cached nvidia_cusparse_cu12-12.1.0.106-py3-none-manylinux1_x86_64.whl.metadata (1.6 kB)\n",
            "Collecting nvidia-nccl-cu12==2.20.5 (from torch)\n",
            "  Using cached nvidia_nccl_cu12-2.20.5-py3-none-manylinux2014_x86_64.whl.metadata (1.8 kB)\n",
            "Collecting nvidia-nvtx-cu12==12.1.105 (from torch)\n",
            "  Using cached nvidia_nvtx_cu12-12.1.105-py3-none-manylinux1_x86_64.whl.metadata (1.7 kB)\n",
            "Requirement already satisfied: triton==2.3.1 in /usr/local/lib/python3.10/dist-packages (from torch) (2.3.1)\n",
            "Collecting nvidia-nvjitlink-cu12 (from nvidia-cusolver-cu12==11.4.5.107->torch)\n",
            "  Using cached nvidia_nvjitlink_cu12-12.6.20-py3-none-manylinux2014_x86_64.whl.metadata (1.5 kB)\n",
            "Requirement already satisfied: MarkupSafe>=2.0 in /usr/local/lib/python3.10/dist-packages (from jinja2->torch) (2.1.5)\n",
            "Requirement already satisfied: mpmath<1.4,>=1.1.0 in /usr/local/lib/python3.10/dist-packages (from sympy->torch) (1.3.0)\n",
            "Using cached nvidia_cublas_cu12-12.1.3.1-py3-none-manylinux1_x86_64.whl (410.6 MB)\n",
            "Using cached nvidia_cuda_cupti_cu12-12.1.105-py3-none-manylinux1_x86_64.whl (14.1 MB)\n",
            "Using cached nvidia_cuda_nvrtc_cu12-12.1.105-py3-none-manylinux1_x86_64.whl (23.7 MB)\n",
            "Using cached nvidia_cuda_runtime_cu12-12.1.105-py3-none-manylinux1_x86_64.whl (823 kB)\n",
            "Using cached nvidia_cudnn_cu12-8.9.2.26-py3-none-manylinux1_x86_64.whl (731.7 MB)\n",
            "Using cached nvidia_cufft_cu12-11.0.2.54-py3-none-manylinux1_x86_64.whl (121.6 MB)\n",
            "Using cached nvidia_curand_cu12-10.3.2.106-py3-none-manylinux1_x86_64.whl (56.5 MB)\n",
            "Using cached nvidia_cusolver_cu12-11.4.5.107-py3-none-manylinux1_x86_64.whl (124.2 MB)\n",
            "Using cached nvidia_cusparse_cu12-12.1.0.106-py3-none-manylinux1_x86_64.whl (196.0 MB)\n",
            "Using cached nvidia_nccl_cu12-2.20.5-py3-none-manylinux2014_x86_64.whl (176.2 MB)\n",
            "Using cached nvidia_nvtx_cu12-12.1.105-py3-none-manylinux1_x86_64.whl (99 kB)\n",
            "Using cached nvidia_nvjitlink_cu12-12.6.20-py3-none-manylinux2014_x86_64.whl (19.7 MB)\n",
            "Installing collected packages: nvidia-nvtx-cu12, nvidia-nvjitlink-cu12, nvidia-nccl-cu12, nvidia-curand-cu12, nvidia-cufft-cu12, nvidia-cuda-runtime-cu12, nvidia-cuda-nvrtc-cu12, nvidia-cuda-cupti-cu12, nvidia-cublas-cu12, nvidia-cusparse-cu12, nvidia-cudnn-cu12, nvidia-cusolver-cu12\n",
            "Successfully installed nvidia-cublas-cu12-12.1.3.1 nvidia-cuda-cupti-cu12-12.1.105 nvidia-cuda-nvrtc-cu12-12.1.105 nvidia-cuda-runtime-cu12-12.1.105 nvidia-cudnn-cu12-8.9.2.26 nvidia-cufft-cu12-11.0.2.54 nvidia-curand-cu12-10.3.2.106 nvidia-cusolver-cu12-11.4.5.107 nvidia-cusparse-cu12-12.1.0.106 nvidia-nccl-cu12-2.20.5 nvidia-nvjitlink-cu12-12.6.20 nvidia-nvtx-cu12-12.1.105\n"
          ]
        }
      ],
      "source": [
        "!pip install transformers\n",
        "!pip install pandas\n",
        "!pip install torch"
      ]
    },
    {
      "cell_type": "code",
      "execution_count": null,
      "metadata": {
        "colab": {
          "base_uri": "https://localhost:8080/"
        },
        "id": "dNYYLQpXKPal",
        "outputId": "f78c9d3b-2416-4454-f576-13e93501c11f"
      },
      "outputs": [
        {
          "name": "stdout",
          "output_type": "stream",
          "text": [
            "Mounted at /content/drive\n"
          ]
        }
      ],
      "source": [
        "from google.colab import drive\n",
        "drive.mount('/content/drive')"
      ]
    },
    {
      "cell_type": "code",
      "execution_count": null,
      "metadata": {
        "colab": {
          "background_save": true
        },
        "id": "wSnrGV_fJ123"
      },
      "outputs": [],
      "source": [
        "import pandas as pd\n",
        "from transformers import pipeline\n",
        "import torch\n",
        "\n",
        "# GPU kullanımı için cihazı ayarlama\n",
        "cihaz = 0 if torch.cuda.is_available() else -1\n",
        "\n",
        "# Entity'leri tanımlama\n",
        "def varliklari_tanimla(metin, nlp_modeli):\n",
        "    varliklar = nlp_modeli(metin)\n",
        "    birlesmis_varliklar = []\n",
        "    mevcut_varlik = \"\"\n",
        "    mevcut_etiket = \"\"\n",
        "\n",
        "    for varlik in varliklar:\n",
        "        kelime = varlik['word'].replace('##', '')  # ## olan sembolleri kaldır\n",
        "        if varlik['entity'].startswith('B-'):\n",
        "            if mevcut_varlik:\n",
        "                birlesmis_varliklar.append((mevcut_varlik.strip(), mevcut_etiket.split('-')[1]))\n",
        "            mevcut_varlik = kelime\n",
        "            mevcut_etiket = varlik['entity']\n",
        "        elif varlik['entity'].startswith('I-') and mevcut_varlik:\n",
        "            mevcut_varlik += \" \" + kelime\n",
        "        else:\n",
        "            if mevcut_varlik:\n",
        "                birlesmis_varliklar.append((mevcut_varlik.strip(), mevcut_etiket.split('-')[1]))\n",
        "                mevcut_varlik = \"\"\n",
        "                mevcut_etiket = \"\"\n",
        "\n",
        "    if mevcut_varlik:\n",
        "        birlesmis_varliklar.append((mevcut_varlik.strip(), mevcut_etiket.split('-')[1]))\n",
        "\n",
        "    return birlesmis_varliklar\n",
        "\n",
        "# Duygu analizini gerçekleştirme\n",
        "def duygu_analizi_yap(metin, nlp_modeli):\n",
        "    if not metin:\n",
        "        return \"neutral\"\n",
        "    duygu = nlp_modeli(metin)\n",
        "    etiket_haritasi = {\n",
        "        \"LABEL_2\": \"positive\",\n",
        "        \"LABEL_0\": \"negative\",\n",
        "        \"LABEL_1\": \"neutral\"\n",
        "    }\n",
        "    return etiket_haritasi.get(duygu[0]['label'], \"neutral\")\n",
        "\n",
        "# Yorumları okuma ve işleme fonksiyonu\n",
        "def yorumlari_isle(girdi_dosya_adi, varlik_model_dizini, duygu_model_dizini, cikti_dosya_adi):\n",
        "    # xlsx dosyasından veri okuma\n",
        "    df = pd.read_excel(girdi_dosya_adi)\n",
        "\n",
        "    # NaN değerlerini içeren satırları silme\n",
        "    df.dropna(subset=[\"Yorum\"], inplace=True)\n",
        "\n",
        "    nlp_varlik = pipeline(\"ner\", model=varlik_model_dizini, tokenizer=varlik_model_dizini, device=cihaz)\n",
        "    nlp_duygu = pipeline(\"sentiment-analysis\", model=duygu_model_dizini, tokenizer=duygu_model_dizini, device=cihaz)\n",
        "\n",
        "    yeni_satirlar = []\n",
        "\n",
        "    for i, satir in df.iterrows():\n",
        "        yorum_metni = satir[\"Yorum\"]\n",
        "        varliklar = varliklari_tanimla(yorum_metni, nlp_varlik)\n",
        "\n",
        "        if varliklar:\n",
        "            for varlik, kategori in varliklar:\n",
        "                duygu = duygu_analizi_yap(varlik, nlp_duygu)\n",
        "                yeni_satir = satir.copy()\n",
        "                yeni_satir[\"Entities\"] = varlik\n",
        "                yeni_satir[\"Categories\"] = kategori\n",
        "                yeni_satir[\"Sentiments\"] = duygu\n",
        "                yeni_satirlar.append(yeni_satir)\n",
        "        else:\n",
        "            yeni_satir = satir.copy()\n",
        "            yeni_satir[\"Entities\"] = \"yok\"\n",
        "            yeni_satir[\"Categories\"] = \"yok\"\n",
        "            yeni_satir[\"Sentiments\"] = \"neutral\"\n",
        "            yeni_satirlar.append(yeni_satir)\n",
        "\n",
        "    yeni_df = pd.DataFrame(yeni_satirlar)\n",
        "\n",
        "    # 'Categories' sütunu \"yok\" olan satırları silme\n",
        "    yeni_df = yeni_df[yeni_df[\"Categories\"] != \"yok\"]\n",
        "\n",
        "    yeni_df.to_excel(cikti_dosya_adi, index=False)\n",
        "\n",
        "# Dosya ve model dizinleri\n",
        "girdi_xlsx = \"/content/redmiBudsEssential.xlsx\"\n",
        "cikti_xlsx = 'redmiBudsEssential_duzen.xlsx'\n",
        "varlik_model_dizini = \"/content/drive/MyDrive/ner\"\n",
        "duygu_model_dizini = \"/content/drive/MyDrive/duygu\"\n",
        "\n",
        "# Yorumları işleme ve yeni dosyaya yazma\n",
        "yorumlari_isle(girdi_xlsx, varlik_model_dizini, duygu_model_dizini, cikti_xlsx)\n"
      ]
    }
  ],
  "metadata": {
    "colab": {
      "provenance": []
    },
    "kernelspec": {
      "display_name": "Python 3",
      "name": "python3"
    },
    "language_info": {
      "name": "python"
    }
  },
  "nbformat": 4,
  "nbformat_minor": 0
}
